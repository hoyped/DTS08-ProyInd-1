{
 "cells": [
  {
   "cell_type": "code",
   "execution_count": 1,
   "metadata": {},
   "outputs": [],
   "source": [
    "#IMPORTAR LIBRERIAS PARA MANEJO DE LOS DATASETS\n",
    "import pandas as pd"
   ]
  },
  {
   "cell_type": "code",
   "execution_count": 2,
   "metadata": {},
   "outputs": [],
   "source": [
    "#LEVANTAR csv´s DE TRABAJO (plataformas)\n",
    "amazon = pd.read_csv('amazon.csv')\n",
    "disney = pd.read_csv('disney.csv')\n",
    "hulu = pd.read_csv('hulu.csv')\n",
    "netflix = pd.read_csv('netflix.csv')"
   ]
  },
  {
   "cell_type": "code",
   "execution_count": 2,
   "metadata": {},
   "outputs": [],
   "source": [
    "#LEVANTAR csv's DE TRABAJO (score)\n",
    "score1 = pd.read_csv('1.csv')\n",
    "score2 = pd.read_csv('2.csv')\n",
    "score3 = pd.read_csv('3.csv')\n",
    "score4 = pd.read_csv('4.csv')\n",
    "score5 = pd.read_csv('5.csv')\n",
    "score6 = pd.read_csv('6.csv')\n",
    "score7 = pd.read_csv('7.csv')\n",
    "score8 = pd.read_csv('8.csv')"
   ]
  },
  {
   "cell_type": "code",
   "execution_count": 3,
   "metadata": {},
   "outputs": [],
   "source": [
    "#ELIMINAR ALGUNOS DUPLICADOS DE LOS ARCHIVOS DE CALIFICACIÓN (124/11MM - 0.00113%)\n",
    "score1.drop_duplicates(inplace=True)\n",
    "score2.drop_duplicates(inplace=True)\n",
    "score3.drop_duplicates(inplace=True)\n",
    "score4.drop_duplicates(inplace=True)\n",
    "score5.drop_duplicates(inplace=True)\n",
    "score6.drop_duplicates(inplace=True)\n",
    "score7.drop_duplicates(inplace=True)\n",
    "score8.drop_duplicates(inplace=True)"
   ]
  },
  {
   "cell_type": "code",
   "execution_count": 8,
   "metadata": {},
   "outputs": [],
   "source": [
    "#CREACION COLUMNA ID (LETRA INICIAL PLATAFORMA + show_id)\n",
    "amazon[\"id\"] = \"a\" + amazon[\"show_id\"]\n",
    "disney[\"id\"] = \"d\" + disney[\"show_id\"]\n",
    "hulu[\"id\"] = \"h\" + hulu[\"show_id\"]\n",
    "netflix[\"id\"] = \"n\" + netflix[\"show_id\"]"
   ]
  },
  {
   "cell_type": "code",
   "execution_count": 9,
   "metadata": {},
   "outputs": [],
   "source": [
    "#ELIMINAR COLUMNA show_id DATASETS PLATAFORMAS\n",
    "amazon.drop(columns=[\"show_id\"], inplace=True)\n",
    "disney.drop(columns=[\"show_id\"], inplace=True)\n",
    "hulu.drop(columns=[\"show_id\"], inplace=True)\n",
    "netflix.drop(columns=[\"show_id\"], inplace=True)"
   ]
  },
  {
   "cell_type": "code",
   "execution_count": 10,
   "metadata": {},
   "outputs": [],
   "source": [
    "#UNIR DATASETS DE LAS PLATAFORMAS\n",
    "platall = pd.concat([amazon, disney, hulu, netflix], ignore_index=True)"
   ]
  },
  {
   "cell_type": "code",
   "execution_count": 11,
   "metadata": {},
   "outputs": [],
   "source": [
    "#CAMBIAR NOMBRE A COLUMNA id PARA RELACIONAR CON DATASETS DE VALORACIONES USUARIO\n",
    "platall.rename(columns={'id':'movieId'}, inplace=True)"
   ]
  },
  {
   "cell_type": "code",
   "execution_count": 4,
   "metadata": {},
   "outputs": [],
   "source": [
    "#UNIR DATASETS DE LAS VALORACIONES\n",
    "scoring = pd.concat([score1, score2, score3, score4, score5, score6, score7, score8], ignore_index=True)"
   ]
  },
  {
   "cell_type": "code",
   "execution_count": 5,
   "metadata": {},
   "outputs": [],
   "source": [
    "scoring.to_csv(\"scoring.csv\", sep=';')"
   ]
  },
  {
   "cell_type": "code",
   "execution_count": 6,
   "metadata": {},
   "outputs": [
    {
     "data": {
      "text/plain": [
       "(11024165, 4)"
      ]
     },
     "execution_count": 6,
     "metadata": {},
     "output_type": "execute_result"
    }
   ],
   "source": [
    "scoring.shape"
   ]
  },
  {
   "cell_type": "code",
   "execution_count": 13,
   "metadata": {},
   "outputs": [],
   "source": [
    "#ELIMINAR COLUMNAS user_id y timestamp (NO NECESARIAS PARA LA SECCIÓN DE FUNCIONALIDADES API)\n",
    "scoring.drop(columns=['userId', 'timestamp'], inplace=True)"
   ]
  },
  {
   "cell_type": "code",
   "execution_count": 14,
   "metadata": {},
   "outputs": [],
   "source": [
    "#AGRUPAR DIFERENTES TIPO DE SHOW POR CALIFICACIÓN PROMEDIO\n",
    "gen_score = scoring.groupby(['movieId']).mean()"
   ]
  },
  {
   "cell_type": "code",
   "execution_count": 15,
   "metadata": {},
   "outputs": [],
   "source": [
    "#UNIR DATASETS DE PLATAFORMAS Y VALORACIONES\n",
    "platforms = pd.merge(platall, gen_score, on=[\"movieId\"])"
   ]
  },
  {
   "cell_type": "code",
   "execution_count": 17,
   "metadata": {},
   "outputs": [],
   "source": [
    "#RENOMBRAR COLUMNAS\n",
    "platforms.rename(columns={'movieId':'show_id'}, inplace=True)\n",
    "platforms.rename(columns={'rating_x':'class'}, inplace=True)\n",
    "platforms.rename(columns={'rating_y':'score'}, inplace=True)"
   ]
  },
  {
   "cell_type": "code",
   "execution_count": 18,
   "metadata": {},
   "outputs": [],
   "source": [
    "#REEMPLAZAR VALORES NULOS DEL CAMPO class POR STRING 'G'\n",
    "platforms['class'].fillna(\"G\", inplace=True)"
   ]
  },
  {
   "cell_type": "code",
   "execution_count": 19,
   "metadata": {},
   "outputs": [],
   "source": [
    "#CAMBIAR LAS FECHAS AL FORMATO AAAA-mm-dd\n",
    "platforms['date_added'] = pd.to_datetime(platforms['date_added'])"
   ]
  },
  {
   "cell_type": "code",
   "execution_count": 20,
   "metadata": {},
   "outputs": [],
   "source": [
    "#LLEVAR A MINÚSCULAS TODOS LOS CAMPOS DE TEXTO, SIN EXCEPCIÓN\n",
    "platforms['show_id'] = platforms['show_id'].str.lower()\n",
    "platforms['type'] = platforms['type'].str.lower()\n",
    "platforms['title'] = platforms['title'].str.lower()\n",
    "platforms['director'] = platforms['director'].str.lower()\n",
    "platforms['cast'] = platforms['cast'].str.lower()\n",
    "platforms['country'] = platforms['country'].str.lower()\n",
    "platforms['class'] = platforms['class'].str.lower()\n",
    "platforms['duration'] = platforms['duration'].str.lower()\n",
    "platforms['listed_in'] = platforms['listed_in'].str.lower()\n",
    "platforms['description'] = platforms['description'].str.lower()"
   ]
  },
  {
   "cell_type": "code",
   "execution_count": 21,
   "metadata": {},
   "outputs": [
    {
     "name": "stderr",
     "output_type": "stream",
     "text": [
      "C:\\Users\\Pedro Hoyos\\AppData\\Local\\Temp\\ipykernel_7892\\1059396421.py:2: FutureWarning: In a future version of pandas all arguments of StringMethods.split except for the argument 'pat' will be keyword-only.\n",
      "  platforms[['duration_int', 'duration_type']] = platforms['duration'].str.split(' ', 1, expand=True)\n"
     ]
    }
   ],
   "source": [
    "#CONVERTIR CAMPO duration EN DOS CAMPOS (duration_int(INT) Y duration_type(STRING))\n",
    "platforms[['duration_int', 'duration_type']] = platforms['duration'].str.split(' ', 1, expand=True)"
   ]
  },
  {
   "cell_type": "code",
   "execution_count": 23,
   "metadata": {},
   "outputs": [],
   "source": [
    "#ELIMINAR COLUMNA duration LA CUAL FUE DIVIDIDA\n",
    "platforms.drop(columns = ['duration'], inplace=True)"
   ]
  },
  {
   "cell_type": "code",
   "execution_count": 24,
   "metadata": {},
   "outputs": [],
   "source": [
    "#REINDEXAR COLUMNAS (id) A COLUMNA INICIAL\n",
    "platforms = platforms.reindex(columns=['show_id','type','title','listed_in','score','director','cast','country','date_added','release_year','class','duration_int','duration_type','description'])"
   ]
  },
  {
   "cell_type": "code",
   "execution_count": 26,
   "metadata": {},
   "outputs": [],
   "source": [
    "#GUARDAR ARCHIVO CON MODIFICACIONES REALIZADAS\n",
    "platforms.to_csv(\"platforms.csv\", sep=';')"
   ]
  },
  {
   "cell_type": "code",
   "execution_count": 27,
   "metadata": {},
   "outputs": [
    {
     "data": {
      "text/html": [
       "<div>\n",
       "<style scoped>\n",
       "    .dataframe tbody tr th:only-of-type {\n",
       "        vertical-align: middle;\n",
       "    }\n",
       "\n",
       "    .dataframe tbody tr th {\n",
       "        vertical-align: top;\n",
       "    }\n",
       "\n",
       "    .dataframe thead th {\n",
       "        text-align: right;\n",
       "    }\n",
       "</style>\n",
       "<table border=\"1\" class=\"dataframe\">\n",
       "  <thead>\n",
       "    <tr style=\"text-align: right;\">\n",
       "      <th></th>\n",
       "      <th>show_id</th>\n",
       "      <th>type</th>\n",
       "      <th>title</th>\n",
       "      <th>listed_in</th>\n",
       "      <th>score</th>\n",
       "      <th>director</th>\n",
       "      <th>cast</th>\n",
       "      <th>country</th>\n",
       "      <th>date_added</th>\n",
       "      <th>release_year</th>\n",
       "      <th>class</th>\n",
       "      <th>duration_int</th>\n",
       "      <th>duration_type</th>\n",
       "      <th>description</th>\n",
       "    </tr>\n",
       "  </thead>\n",
       "  <tbody>\n",
       "    <tr>\n",
       "      <th>0</th>\n",
       "      <td>as1</td>\n",
       "      <td>movie</td>\n",
       "      <td>the grand seduction</td>\n",
       "      <td>comedy, drama</td>\n",
       "      <td>3.467131</td>\n",
       "      <td>don mckellar</td>\n",
       "      <td>brendan gleeson, taylor kitsch, gordon pinsent</td>\n",
       "      <td>canada</td>\n",
       "      <td>2021-03-30</td>\n",
       "      <td>2014</td>\n",
       "      <td>g</td>\n",
       "      <td>113</td>\n",
       "      <td>min</td>\n",
       "      <td>a small fishing village must procure a local d...</td>\n",
       "    </tr>\n",
       "    <tr>\n",
       "      <th>1</th>\n",
       "      <td>as2</td>\n",
       "      <td>movie</td>\n",
       "      <td>take care good night</td>\n",
       "      <td>drama, international</td>\n",
       "      <td>3.548682</td>\n",
       "      <td>girish joshi</td>\n",
       "      <td>mahesh manjrekar, abhay mahajan, sachin khedekar</td>\n",
       "      <td>india</td>\n",
       "      <td>2021-03-30</td>\n",
       "      <td>2018</td>\n",
       "      <td>13+</td>\n",
       "      <td>110</td>\n",
       "      <td>min</td>\n",
       "      <td>a metro family decides to fight a cyber crimin...</td>\n",
       "    </tr>\n",
       "    <tr>\n",
       "      <th>2</th>\n",
       "      <td>as3</td>\n",
       "      <td>movie</td>\n",
       "      <td>secrets of deception</td>\n",
       "      <td>action, drama, suspense</td>\n",
       "      <td>3.500000</td>\n",
       "      <td>josh webber</td>\n",
       "      <td>tom sizemore, lorenzo lamas, robert lasardo, r...</td>\n",
       "      <td>united states</td>\n",
       "      <td>2021-03-30</td>\n",
       "      <td>2017</td>\n",
       "      <td>g</td>\n",
       "      <td>74</td>\n",
       "      <td>min</td>\n",
       "      <td>after a man discovers his wife is cheating on ...</td>\n",
       "    </tr>\n",
       "    <tr>\n",
       "      <th>3</th>\n",
       "      <td>as4</td>\n",
       "      <td>movie</td>\n",
       "      <td>pink: staying true</td>\n",
       "      <td>documentary</td>\n",
       "      <td>3.538055</td>\n",
       "      <td>sonia anderson</td>\n",
       "      <td>interviews with: pink, adele, beyoncé, britney...</td>\n",
       "      <td>united states</td>\n",
       "      <td>2021-03-30</td>\n",
       "      <td>2014</td>\n",
       "      <td>g</td>\n",
       "      <td>69</td>\n",
       "      <td>min</td>\n",
       "      <td>pink breaks the mold once again, bringing her ...</td>\n",
       "    </tr>\n",
       "    <tr>\n",
       "      <th>4</th>\n",
       "      <td>as5</td>\n",
       "      <td>movie</td>\n",
       "      <td>monster maker</td>\n",
       "      <td>drama, fantasy</td>\n",
       "      <td>3.478992</td>\n",
       "      <td>giles foster</td>\n",
       "      <td>harry dean stanton, kieran o'brien, george cos...</td>\n",
       "      <td>united kingdom</td>\n",
       "      <td>2021-03-30</td>\n",
       "      <td>1989</td>\n",
       "      <td>g</td>\n",
       "      <td>45</td>\n",
       "      <td>min</td>\n",
       "      <td>teenage matt banting wants to work with a famo...</td>\n",
       "    </tr>\n",
       "  </tbody>\n",
       "</table>\n",
       "</div>"
      ],
      "text/plain": [
       "  show_id   type                 title                listed_in     score  \\\n",
       "0     as1  movie   the grand seduction            comedy, drama  3.467131   \n",
       "1     as2  movie  take care good night     drama, international  3.548682   \n",
       "2     as3  movie  secrets of deception  action, drama, suspense  3.500000   \n",
       "3     as4  movie    pink: staying true              documentary  3.538055   \n",
       "4     as5  movie         monster maker           drama, fantasy  3.478992   \n",
       "\n",
       "         director                                               cast  \\\n",
       "0    don mckellar     brendan gleeson, taylor kitsch, gordon pinsent   \n",
       "1    girish joshi   mahesh manjrekar, abhay mahajan, sachin khedekar   \n",
       "2     josh webber  tom sizemore, lorenzo lamas, robert lasardo, r...   \n",
       "3  sonia anderson  interviews with: pink, adele, beyoncé, britney...   \n",
       "4    giles foster  harry dean stanton, kieran o'brien, george cos...   \n",
       "\n",
       "          country date_added  release_year class duration_int duration_type  \\\n",
       "0          canada 2021-03-30          2014     g          113           min   \n",
       "1           india 2021-03-30          2018   13+          110           min   \n",
       "2   united states 2021-03-30          2017     g           74           min   \n",
       "3   united states 2021-03-30          2014     g           69           min   \n",
       "4  united kingdom 2021-03-30          1989     g           45           min   \n",
       "\n",
       "                                         description  \n",
       "0  a small fishing village must procure a local d...  \n",
       "1  a metro family decides to fight a cyber crimin...  \n",
       "2  after a man discovers his wife is cheating on ...  \n",
       "3  pink breaks the mold once again, bringing her ...  \n",
       "4  teenage matt banting wants to work with a famo...  "
      ]
     },
     "execution_count": 27,
     "metadata": {},
     "output_type": "execute_result"
    }
   ],
   "source": [
    "platforms.head()"
   ]
  },
  {
   "cell_type": "code",
   "execution_count": 29,
   "metadata": {},
   "outputs": [
    {
     "name": "stdout",
     "output_type": "stream",
     "text": [
      "3.3364779874213837\n",
      "3.7245119305856833\n",
      "3.5334423547247473\n"
     ]
    }
   ],
   "source": [
    "print(platforms['score'].min())\n",
    "print(platforms['score'].max())\n",
    "print(platforms['score'].mean())"
   ]
  },
  {
   "cell_type": "code",
   "execution_count": 30,
   "metadata": {},
   "outputs": [
    {
     "data": {
      "text/plain": [
       "(22998, 14)"
      ]
     },
     "execution_count": 30,
     "metadata": {},
     "output_type": "execute_result"
    }
   ],
   "source": [
    "platforms.shape"
   ]
  },
  {
   "cell_type": "markdown",
   "metadata": {},
   "source": [
    "# Funciones requeridas para las consultas solicitadas"
   ]
  },
  {
   "cell_type": "markdown",
   "metadata": {},
   "source": [
    "Película con mayor duración con filtros opcionales de AÑO, PLATAFORMA Y TIPO DE DURACIÓN. (la función debe llamarse get_max_duration(year, platform, duration_type))"
   ]
  },
  {
   "cell_type": "code",
   "execution_count": 1,
   "metadata": {},
   "outputs": [
    {
     "name": "stdout",
     "output_type": "stream",
     "text": [
      "Hola\n"
     ]
    }
   ],
   "source": [
    "print(\"Hola\")"
   ]
  },
  {
   "cell_type": "code",
   "execution_count": 2,
   "metadata": {},
   "outputs": [],
   "source": [
    "import pandas as pd\n",
    "platforms = pd.read_csv('platforms.csv', sep=(';'))"
   ]
  },
  {
   "cell_type": "code",
   "execution_count": 3,
   "metadata": {},
   "outputs": [],
   "source": [
    "def get_max_duration(year, platform, duration_type):\n",
    "    film_time = []\n",
    "    film_name = []\n",
    "    for k, l in enumerate (platforms['release_year']):\n",
    "        if l == year:\n",
    "            if platforms['show_id'][k][0] == platform:\n",
    "                if platforms['duration_type'][k] == duration_type:\n",
    "                    film_time.append(int(platforms['duration_int'][k]))\n",
    "                    film_name.append(k)\n",
    "                    maximo = max(film_time)\n",
    "                    film = film_time.index(maximo)\n",
    "                    nom_sho = platforms['title'][film_name[film]]\n",
    "    return nom_sho"
   ]
  },
  {
   "cell_type": "code",
   "execution_count": 62,
   "metadata": {},
   "outputs": [
    {
     "name": "stdout",
     "output_type": "stream",
     "text": [
      "marvel studios' avengers: infinity war\n"
     ]
    }
   ],
   "source": [
    "print(get_max_duration(2018, 'd', 'min'))"
   ]
  },
  {
   "cell_type": "markdown",
   "metadata": {},
   "source": [
    "Cantidad de películas por plataforma con un puntaje mayor a XX en determinado año (la función debe llamarse get_score_count(platform, scored, year)"
   ]
  },
  {
   "cell_type": "code",
   "execution_count": 5,
   "metadata": {},
   "outputs": [],
   "source": [
    "def get_score_count(platform, scored, year):\n",
    "    max_score = 0\n",
    "    for m, n in enumerate(platforms['release_year']):\n",
    "        if n == year:\n",
    "            if platforms['show_id'][m][0] == platform:\n",
    "                if platforms['score'][m] > scored:\n",
    "                    max_score += 1\n",
    "    return max_score"
   ]
  },
  {
   "cell_type": "code",
   "execution_count": 63,
   "metadata": {},
   "outputs": [
    {
     "name": "stdout",
     "output_type": "stream",
     "text": [
      "56\n"
     ]
    }
   ],
   "source": [
    "print(get_score_count('d', 3.5, 2018))"
   ]
  },
  {
   "cell_type": "markdown",
   "metadata": {},
   "source": [
    "Cantidad de películas por plataforma con filtro de PLATAFORMA. (La función debe llamarse get_count_platform(platform))"
   ]
  },
  {
   "cell_type": "code",
   "execution_count": 64,
   "metadata": {},
   "outputs": [],
   "source": [
    "def get_count_platform(platform):\n",
    "    pltf_films = 0\n",
    "    for o, p in enumerate(platforms['show_id']):\n",
    "        if platforms['show_id'][o][0] == platform:\n",
    "            pltf_films +=1\n",
    "    return pltf_films"
   ]
  },
  {
   "cell_type": "code",
   "execution_count": 65,
   "metadata": {},
   "outputs": [
    {
     "name": "stdout",
     "output_type": "stream",
     "text": [
      "9668\n",
      "1450\n",
      "3073\n",
      "8807\n"
     ]
    }
   ],
   "source": [
    "print(get_count_platform('a'))\n",
    "print(get_count_platform('d'))\n",
    "print(get_count_platform('h'))\n",
    "print(get_count_platform('n'))"
   ]
  },
  {
   "cell_type": "markdown",
   "metadata": {},
   "source": [
    "Actor que más se repite según plataforma y año. (La función debe llamarse get_actor(platform, year)"
   ]
  },
  {
   "cell_type": "code",
   "execution_count": 57,
   "metadata": {},
   "outputs": [],
   "source": [
    "def get_actor(platform, year):\n",
    "    actors1 = []\n",
    "    actors2 = []\n",
    "    conta = 0\n",
    "    if platform == \"h\":\n",
    "        return(\"No está disponible la información de reparto en el momento. Por favor discúlpenos\")\n",
    "    for q, r in enumerate (platforms['release_year']):\n",
    "        if r == year:\n",
    "            if platforms['show_id'][q][0] == platform:\n",
    "                actors1.append(platforms['cast'][q])\n",
    "    for s, t in enumerate (actors1):\n",
    "        if type(t) == str:\n",
    "            actors1[s] = t.split(\", \")\n",
    "    for t in actors1:\n",
    "        if type(t) == list:\n",
    "            actors2.append(t)\n",
    "    actors3 = [elem for sub in actors2 for elem in sub]\n",
    "    for u, v in enumerate (actors3):\n",
    "        if actors3.count(v) > conta:\n",
    "            conta = actors3.count(v)\n",
    "            d = actors3[u]\n",
    "    return d"
   ]
  },
  {
   "cell_type": "code",
   "execution_count": 67,
   "metadata": {},
   "outputs": [
    {
     "name": "stdout",
     "output_type": "stream",
     "text": [
      "james franco\n"
     ]
    }
   ],
   "source": [
    "print(get_actor('n', 2015))"
   ]
  }
 ],
 "metadata": {
  "kernelspec": {
   "display_name": "Python 3.10.8 64-bit",
   "language": "python",
   "name": "python3"
  },
  "language_info": {
   "codemirror_mode": {
    "name": "ipython",
    "version": 3
   },
   "file_extension": ".py",
   "mimetype": "text/x-python",
   "name": "python",
   "nbconvert_exporter": "python",
   "pygments_lexer": "ipython3",
   "version": "3.10.8"
  },
  "orig_nbformat": 4,
  "vscode": {
   "interpreter": {
    "hash": "561fc91c9c81d72c38f85fc9e4271f8cfd07dcdd8a855aec13bc7a0628f09437"
   }
  }
 },
 "nbformat": 4,
 "nbformat_minor": 2
}
